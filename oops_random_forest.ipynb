{
  "nbformat": 4,
  "nbformat_minor": 0,
  "metadata": {
    "colab": {
      "provenance": [],
      "authorship_tag": "ABX9TyOpLlmdoaydWQVTd3e0ZQ3o",
      "include_colab_link": true
    },
    "kernelspec": {
      "name": "python3",
      "display_name": "Python 3"
    },
    "language_info": {
      "name": "python"
    }
  },
  "cells": [
    {
      "cell_type": "markdown",
      "metadata": {
        "id": "view-in-github",
        "colab_type": "text"
      },
      "source": [
        "<a href=\"https://colab.research.google.com/github/prabhu-z7/oops/blob/main/oops_random_forest.ipynb\" target=\"_parent\"><img src=\"https://colab.research.google.com/assets/colab-badge.svg\" alt=\"Open In Colab\"/></a>"
      ]
    },
    {
      "cell_type": "code",
      "execution_count": 3,
      "metadata": {
        "colab": {
          "base_uri": "https://localhost:8080/"
        },
        "id": "tGxhzTS9YNvO",
        "outputId": "d20906ce-0407-416d-ea32-fd6b9823cc84"
      },
      "outputs": [
        {
          "output_type": "stream",
          "name": "stdout",
          "text": [
            "📊 Classification Report:\n",
            "\n",
            "              precision    recall  f1-score   support\n",
            "\n",
            "           0       1.00      1.00      1.00        19\n",
            "           1       1.00      1.00      1.00        13\n",
            "           2       1.00      1.00      1.00        13\n",
            "\n",
            "    accuracy                           1.00        45\n",
            "   macro avg       1.00      1.00      1.00        45\n",
            "weighted avg       1.00      1.00      1.00        45\n",
            "\n"
          ]
        }
      ],
      "source": [
        "# Step 1: Import Required Libraries\n",
        "from sklearn.datasets import load_iris\n",
        "from sklearn.model_selection import train_test_split\n",
        "from sklearn.preprocessing import StandardScaler\n",
        "from sklearn.ensemble import RandomForestClassifier\n",
        "from sklearn.metrics import classification_report\n",
        "\n",
        "\n",
        "# Step 2: Data Loader Class\n",
        "class DataLoader:\n",
        "    def __init__(self):\n",
        "        self.X, self.y = load_iris(return_X_y=True)\n",
        "\n",
        "    def split(self, test_size=0.3, random_state=42):\n",
        "        return train_test_split(self.X, self.y, test_size=test_size, random_state=random_state)\n",
        "\n",
        "\n",
        "# Step 3: Preprocessor Class\n",
        "class Preprocessor:\n",
        "    def __init__(self):\n",
        "        self.scaler = StandardScaler()\n",
        "\n",
        "    def fit_transform(self, X_train):\n",
        "        return self.scaler.fit_transform(X_train)\n",
        "\n",
        "    def transform(self, X_test):\n",
        "        return self.scaler.transform(X_test)\n",
        "\n",
        "\n",
        "# Step 4: Base Model Class\n",
        "class BaseModel:\n",
        "    def __init__(self):\n",
        "        self.model = None\n",
        "\n",
        "    def train(self, X_train, y_train):\n",
        "        # if self.model: # Removed this check\n",
        "        self.model.fit(X_train, y_train)\n",
        "\n",
        "    def predict(self, X_test):\n",
        "        if self.model:\n",
        "            return self.model.predict(X_test)\n",
        "\n",
        "\n",
        "# Step 5: Intermediate MLModel Class (inherits from BaseModel)\n",
        "class MLModel(BaseModel):\n",
        "    def __init__(self):\n",
        "        super().__init__()  # Inherit from BaseModel\n",
        "        # Do nothing here — let specific models define self.model\n",
        "\n",
        "\n",
        "# Step 6: Final Model Class — RandomForestModel (inherits from MLModel)\n",
        "class RandomForestModel(MLModel):\n",
        "    def __init__(self, n_estimators=100, random_state=42):\n",
        "        super().__init__()  # Inherit from MLModel\n",
        "        self.model = RandomForestClassifier(n_estimators=n_estimators, random_state=random_state)\n",
        "\n",
        "\n",
        "# Step 7: Evaluator Class\n",
        "class Evaluator:\n",
        "    def __init__(self, y_true, y_pred):\n",
        "        self.y_true = y_true\n",
        "        self.y_pred = y_pred\n",
        "\n",
        "    def report(self):\n",
        "        print(\"📊 Classification Report:\\n\")\n",
        "        print(classification_report(self.y_true, self.y_pred))\n",
        "\n",
        "\n",
        "# Step 8: Main ML Application Class\n",
        "class MLApplication:\n",
        "    def __init__(self):\n",
        "        self.loader = DataLoader()\n",
        "        self.preprocessor = Preprocessor()\n",
        "        self.model = RandomForestModel()  # Use the multilevel-inherited model\n",
        "\n",
        "    def run(self):\n",
        "        # Load and split data\n",
        "        X_train, X_test, y_train, y_test = self.loader.split()\n",
        "\n",
        "        # Preprocess data\n",
        "        X_train_scaled = self.preprocessor.fit_transform(X_train)\n",
        "        X_test_scaled = self.preprocessor.transform(X_test)\n",
        "\n",
        "        # Train model\n",
        "        self.model.train(X_train_scaled, y_train)\n",
        "        y_pred = self.model.predict(X_test_scaled)\n",
        "\n",
        "        # Evaluate\n",
        "        evaluator = Evaluator(y_test, y_pred)\n",
        "        evaluator.report()\n",
        "\n",
        "\n",
        "# Step 9: Execute the Pipeline\n",
        "app = MLApplication()\n",
        "app.run()"
      ]
    },
    {
      "cell_type": "code",
      "source": [],
      "metadata": {
        "id": "NFbTKGrYYa7M"
      },
      "execution_count": null,
      "outputs": []
    }
  ]
}